{
 "cells": [
  {
   "cell_type": "code",
   "execution_count": 1,
   "metadata": {},
   "outputs": [],
   "source": [
    "import pandas as pd\n",
    "import numpy as np"
   ]
  },
  {
   "cell_type": "code",
   "execution_count": 5,
   "metadata": {},
   "outputs": [],
   "source": [
    "import pandas as pd\n",
    "\n",
    "# Load data\n",
    "ypredictedA = pd.read_csv(\"predictions14.csv\", index_col='row_index')\n",
    "ypredictedB = pd.read_csv(\"predictions13.csv\", index_col='row_index')\n",
    "ypredictedC = pd.read_csv(\"predictions11.csv\", index_col='row_index')\n",
    "ypredictedD = pd.read_csv(\"predictions8.csv\", index_col='row_index')\n",
    "ypredictedE = pd.read_csv(\"predictions6.csv\", index_col='row_index')\n",
    "\n",
    "# Concatenate columns into a single dataset\n",
    "dataset_all = pd.concat([ypredictedA, ypredictedB, ypredictedC, ypredictedD, ypredictedE], axis=1)\n",
    "dataset_all.columns = [\"ypredictedA\", \"ypredictedB\", \"ypredictedC\", \"ypredictedD\", \"ypredictedE\"]\n",
    "\n",
    "# Encode categorical values into numerical ones\n",
    "def encode_y_all(df):\n",
    "    encoding = {'Very Low': 0, 'Low': 1, 'Average': 2, 'High': 3, 'Very High': 4}\n",
    "    for col in [\"ypredictedA\", \"ypredictedB\", \"ypredictedC\", \"ypredictedD\", \"ypredictedE\"]:\n",
    "        df[col] = df[col].map(encoding)\n",
    "    return df\n",
    "\n",
    "dataset_all = encode_y_all(dataset_all)\n",
    "\n",
    "# Add a column for the mean and round the values\n",
    "dataset_all[\"piezo_groundwater_level_category\"] = dataset_all.mean(axis=1).round()\n",
    "\n",
    "# Drop the individual prediction columns\n",
    "dataset_all = dataset_all.drop(columns=[\"ypredictedA\", \"ypredictedB\", \"ypredictedC\", \"ypredictedD\", \"ypredictedE\"])\n",
    "\n",
    "# Decode numerical values back to categorical\n",
    "def decode_y(df):\n",
    "    decoding = {0: 'Very Low', 1: 'Low', 2: 'Average', 3: 'High', 4: 'Very High'}\n",
    "    df[\"piezo_groundwater_level_category\"] = df[\"piezo_groundwater_level_category\"].map(decoding)\n",
    "    return df\n",
    "\n",
    "dataset_all = decode_y(dataset_all)\n",
    "\n",
    "# Save predictions to a CSV file\n",
    "predictions_df = pd.DataFrame(dataset_all, index=ypredictedA.index, columns=['piezo_groundwater_level_category'])\n",
    "predictions_df.to_csv('predictionsABCDE.csv', index_label=\"row_index\")\n"
   ]
  }
 ],
 "metadata": {
  "kernelspec": {
   "display_name": "Python 3",
   "language": "python",
   "name": "python3"
  },
  "language_info": {
   "codemirror_mode": {
    "name": "ipython",
    "version": 3
   },
   "file_extension": ".py",
   "mimetype": "text/x-python",
   "name": "python",
   "nbconvert_exporter": "python",
   "pygments_lexer": "ipython3",
   "version": "3.11.9"
  }
 },
 "nbformat": 4,
 "nbformat_minor": 2
}
