{
 "cells": [
  {
   "cell_type": "code",
   "execution_count": 1,
   "metadata": {},
   "outputs": [
    {
     "name": "stderr",
     "output_type": "stream",
     "text": [
      "C:\\Users\\adjal\\AppData\\Local\\Temp\\ipykernel_5064\\348747834.py:4: DtypeWarning: Columns (108,110,111,115,117,118,122,124,125) have mixed types. Specify dtype option on import or set low_memory=False.\n",
      "  data = pd.read_csv(\"X_train_Hi5.csv\")\n"
     ]
    }
   ],
   "source": [
    "import pandas as pd\n",
    "\n",
    "# Read the first 10,000 rows from the CSV\n",
    "data = pd.read_csv(\"X_train_Hi5.csv\")\n",
    "\n",
    "# Randomly sample 1,000 rows from the loaded data\n",
    "random_sample = data.sample(n=500000, random_state=42)\n",
    "\n",
    "\n",
    "random_sample.to_csv('X_train_mini.csv', index=False)"
   ]
  }
 ],
 "metadata": {
  "kernelspec": {
   "display_name": "Python 3",
   "language": "python",
   "name": "python3"
  },
  "language_info": {
   "codemirror_mode": {
    "name": "ipython",
    "version": 3
   },
   "file_extension": ".py",
   "mimetype": "text/x-python",
   "name": "python",
   "nbconvert_exporter": "python",
   "pygments_lexer": "ipython3",
   "version": "3.11.9"
  }
 },
 "nbformat": 4,
 "nbformat_minor": 2
}
