{
 "cells": [
  {
   "cell_type": "code",
   "execution_count": 1,
   "metadata": {},
   "outputs": [],
   "source": [
    "import numpy as np\n",
    "import pandas as pd"
   ]
  },
  {
   "cell_type": "code",
   "execution_count": 2,
   "metadata": {},
   "outputs": [],
   "source": [
    "# Read Train CSV\n",
    "X_train_preprocessed = pd.read_csv(\"X_train_preprocessed.csv\", index_col='row_index')\n",
    "y_train_preprocessed = pd.read_csv(\"y_train_preprocessed.csv\", index_col='row_index')\n",
    "X_test_preprocessed = pd.read_csv(\"X_test_preprocessed.csv\", index_col='row_index')"
   ]
  },
  {
   "cell_type": "code",
   "execution_count": 3,
   "metadata": {},
   "outputs": [],
   "source": [
    "from sklearn.model_selection import train_test_split\n",
    "\n",
    "X_train, X_validation, y_train, y_validation = train_test_split(X_train_preprocessed, y_train_preprocessed, test_size=0.2, random_state=42, stratify=y_train_preprocessed)"
   ]
  },
  {
   "cell_type": "code",
   "execution_count": 4,
   "metadata": {},
   "outputs": [
    {
     "name": "stderr",
     "output_type": "stream",
     "text": [
      "C:\\Users\\adjal\\AppData\\Roaming\\Python\\Python311\\site-packages\\sklearn\\preprocessing\\_label.py:97: DataConversionWarning: A column-vector y was passed when a 1d array was expected. Please change the shape of y to (n_samples, ), for example using ravel().\n",
      "  y = column_or_1d(y, warn=True)\n",
      "C:\\Users\\adjal\\AppData\\Roaming\\Python\\Python311\\site-packages\\sklearn\\preprocessing\\_label.py:132: DataConversionWarning: A column-vector y was passed when a 1d array was expected. Please change the shape of y to (n_samples, ), for example using ravel().\n",
      "  y = column_or_1d(y, dtype=self.classes_.dtype, warn=True)\n"
     ]
    },
    {
     "name": "stdout",
     "output_type": "stream",
     "text": [
      "[LightGBM] [Info] This is the GPU trainer!!\n",
      "[LightGBM] [Info] Total Bins 8373\n",
      "[LightGBM] [Info] Number of data points in the train set: 2264252, number of used features: 48\n",
      "[LightGBM] [Info] Using GPU Device: gfx90c, Vendor: Advanced Micro Devices, Inc.\n",
      "[LightGBM] [Info] Compiling OpenCL Kernel with 256 bins...\n",
      "[LightGBM] [Info] GPU programs have been built\n",
      "[LightGBM] [Info] Size of histogram bin entry: 8\n",
      "[LightGBM] [Info] 42 dense feature groups (95.01 MB) transferred to GPU in 0.084220 secs. 1 sparse feature groups\n",
      "[LightGBM] [Info] Start training from score -1.662003\n",
      "[LightGBM] [Info] Start training from score -1.502564\n",
      "[LightGBM] [Info] Start training from score -1.471996\n",
      "[LightGBM] [Info] Start training from score -1.581638\n",
      "[LightGBM] [Info] Start training from score -1.880079\n",
      "Training Performance:\n",
      "F1 Score (Train): 0.4608\n",
      "Accuracy (Train): 0.4623\n",
      "\n",
      "Testing Performance:\n",
      "F1 Score (Test): 0.4588\n",
      "Accuracy (Test): 0.4604\n"
     ]
    }
   ],
   "source": [
    "import lightgbm as lgb\n",
    "from sklearn.metrics import f1_score, accuracy_score\n",
    "\n",
    "# Define hyperparameters for the LGBMClassifier\n",
    "n_estimators = 200     # Number of boosting rounds (trees)\n",
    "learning_rate = 0.015  # Step size shrinkage\n",
    "max_depth = 20         # Maximum tree depth\n",
    "subsample = 0.8        # Fraction of samples used for training each tree\n",
    "colsample_bytree = 0.8 # Fraction of features used for each tree\n",
    "random_state = 42      # Random state for reproducibility\n",
    "\n",
    "# Initialize the LGBMClassifier with GPU support\n",
    "model = lgb.LGBMClassifier(\n",
    "    n_estimators=n_estimators,\n",
    "    learning_rate=learning_rate,\n",
    "    max_depth=max_depth,\n",
    "    subsample=subsample,\n",
    "    colsample_bytree=colsample_bytree,\n",
    "    random_state=random_state,\n",
    "    device='gpu',          # Enable GPU acceleration\n",
    "    objective='multiclass',  # Set objective for multiclass classification\n",
    "    num_class=3,           # Set the number of classes in your target variable\n",
    "    metric='multi_logloss',  # Use multi-class log loss as the evaluation metric\n",
    "    num_threads=-1         # Use all available threads for training\n",
    ")\n",
    "\n",
    "# Train the model\n",
    "model.fit(X_train, y_train)\n",
    "\n",
    "# Make predictions on the training and test sets\n",
    "y_pred_train = model.predict(X_train)  # Predictions on training data\n",
    "y_pred_test = model.predict(X_validation)  # Predictions on test data\n",
    "\n",
    "# Evaluate the model on the training set\n",
    "f1_train = f1_score(y_train, y_pred_train, average='weighted')\n",
    "accuracy_train = accuracy_score(y_train, y_pred_train)\n",
    "\n",
    "# Evaluate the model on the test set\n",
    "f1_test = f1_score(y_validation, y_pred_test, average='weighted')\n",
    "accuracy_test = accuracy_score(y_validation, y_pred_test)\n",
    "\n",
    "# Print results\n",
    "print(\"Training Performance:\")\n",
    "print(f\"F1 Score (Train): {f1_train:.4f}\")\n",
    "print(f\"Accuracy (Train): {accuracy_train:.4f}\")\n",
    "\n",
    "print(\"\\nTesting Performance:\")\n",
    "print(f\"F1 Score (Test): {f1_test:.4f}\")\n",
    "print(f\"Accuracy (Test): {accuracy_test:.4f}\")\n"
   ]
  },
  {
   "cell_type": "code",
   "execution_count": null,
   "metadata": {},
   "outputs": [],
   "source": [
    "def encode_y(df):\n",
    "    forward = {'Very Low': 0, 'Low': 1, 'Average': 2, 'High': 3, 'Very High': 4}\n",
    "    backward = {v: k for k, v in forward.items()}\n",
    "    df['piezo_groundwater_level_category'] = df['piezo_groundwater_level_category'].map(forward)\n",
    "    return df\n",
    "\n",
    "def decode_y(df):\n",
    "    forward = {'Very Low': 0, 'Low': 1, 'Average': 2, 'High': 3, 'Very High': 4}\n",
    "    backward = {v: k for k, v in forward.items()}\n",
    "    df['piezo_groundwater_level_category'] = df['piezo_groundwater_level_category'].map(backward)\n",
    "    return df"
   ]
  },
  {
   "cell_type": "code",
   "execution_count": null,
   "metadata": {},
   "outputs": [],
   "source": [
    "# Decode prediction to csv\n",
    "\n",
    "predictions_df = pd.DataFrame(y_pred_test, index=X_test_preprocessed.index, columns=['piezo_groundwater_level_category'])\n",
    "y_pred = decode_y(predictions_df)\n",
    "\n",
    "# Save predictions to CSV\n",
    "predictions_df.to_csv('predictionsLightGBM_XX.csv', index_label=\"row_index\")\n"
   ]
  }
 ],
 "metadata": {
  "kernelspec": {
   "display_name": "Python 3",
   "language": "python",
   "name": "python3"
  },
  "language_info": {
   "codemirror_mode": {
    "name": "ipython",
    "version": 3
   },
   "file_extension": ".py",
   "mimetype": "text/x-python",
   "name": "python",
   "nbconvert_exporter": "python",
   "pygments_lexer": "ipython3",
   "version": "3.11.9"
  }
 },
 "nbformat": 4,
 "nbformat_minor": 2
}
